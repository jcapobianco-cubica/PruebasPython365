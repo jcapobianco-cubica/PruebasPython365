{
 "cells": [
  {
   "cell_type": "code",
   "execution_count": 2,
   "metadata": {},
   "outputs": [],
   "source": [
    "import asyncio\n",
    "from Secrets import secrets\n",
    "from azure.identity import ClientSecretCredential\n",
    "from msgraph import GraphServiceClient\n",
    "import requests\n",
    "from kiota_abstractions.api_error import APIError\n",
    "import msal\n",
    "\n",
    "# Get token\n",
    "client_secret = secrets.get('CLIENT_SECRET')\n",
    "client_id = secrets.get('CLIENT_ID')\n",
    "tenant_id =  secrets.get('TENANT_ID')\n",
    "authority= 'https://login.microsoftonline.com/{}'.format(secrets.get('TENANT_ID'))\n",
    "scope = ['https://graph.microsoft.com/.default']"
   ]
  },
  {
   "cell_type": "code",
   "execution_count": 3,
   "metadata": {},
   "outputs": [
    {
     "name": "stdout",
     "output_type": "stream",
     "text": [
      "New access token was acquired from Azure AD\n",
      "Bearer eyJ0eXAiOiJKV1QiLCJub25jZSI6InlfOXc4cEZhdmQ5U0V1dUl0eHhINjVYRnpucHc4cFFCR2YwZnJ2S0FlLVUiLCJhbGciOiJSUzI1NiIsIng1dCI6IlhSdmtvOFA3QTNVYVdTblU3Yk05blQwTWpoQSIsImtpZCI6IlhSdmtvOFA3QTNVYVdTblU3Yk05blQwTWpoQSJ9.eyJhdWQiOiJodHRwczovL2dyYXBoLm1pY3Jvc29mdC5jb20iLCJpc3MiOiJodHRwczovL3N0cy53aW5kb3dzLm5ldC8wOGIwNDk2Yi01NWYwLTRkOTQtYWFjYy03NGE3NWQ2YjgyOWYvIiwiaWF0IjoxNzExNTUxODExLCJuYmYiOjE3MTE1NTE4MTEsImV4cCI6MTcxMTU1NTcxMSwiYWlvIjoiRTJOZ1lIZzE3Y0hjTHAwTDd0V2xYK3YrTUwwWEJ3QT0iLCJhcHBfZGlzcGxheW5hbWUiOiJTaGFyZXBvaW50IiwiYXBwaWQiOiI4YjQxNTAxZS1mZDBmLTQ5YjYtODNlOS01Y2RlOTY0ZTY3ZjgiLCJhcHBpZGFjciI6IjEiLCJpZHAiOiJodHRwczovL3N0cy53aW5kb3dzLm5ldC8wOGIwNDk2Yi01NWYwLTRkOTQtYWFjYy03NGE3NWQ2YjgyOWYvIiwiaWR0eXAiOiJhcHAiLCJvaWQiOiI2NTEwOThlMC00ZTY2LTQ2Y2MtOGZhZS1hNmM5NDM3YWE1MTIiLCJyaCI6IjAuQWE4QWEwbXdDUEJWbEUycXpIU25YV3VDbndNQUFBQUFBQUFBd0FBQUFBQUFBQUN2QUFBLiIsInJvbGVzIjpbIk1haWwuUmVhZFdyaXRlIiwiRGV2aWNlLlJlYWRXcml0ZS5BbGwiLCJEZXZpY2VMb2NhbENyZWRlbnRpYWwuUmVhZEJhc2ljLkFsbCIsIlNpdGVzLlJlYWRXcml0ZS5BbGwiLCJTaXRlcy5NYW5hZ2UuQWxsIiwiVXNlci5SZWFkLkFsbCIsIkRldmljZU1hbmFnZW1lbnRTZXJ2aWNlQ29uZmlnLlJlYWRXcml0ZS5BbGwiLCJEZXZpY2VNYW5hZ2VtZW50TWFuYWdlZERldmljZXMuUmVhZFdyaXRlLkFsbCIsIk1haWwuU2VuZCIsIkRldmljZU1hbmFnZW1lbnRDb25maWd1cmF0aW9uLlJlYWRXcml0ZS5BbGwiLCJTaXRlcy5GdWxsQ29udHJvbC5BbGwiLCJEZXZpY2VNYW5hZ2VtZW50QXBwcy5SZWFkV3JpdGUuQWxsIiwiRGV2aWNlTWFuYWdlbWVudFJCQUMuUmVhZFdyaXRlLkFsbCJdLCJzdWIiOiI2NTEwOThlMC00ZTY2LTQ2Y2MtOGZhZS1hNmM5NDM3YWE1MTIiLCJ0ZW5hbnRfcmVnaW9uX3Njb3BlIjoiRVUiLCJ0aWQiOiIwOGIwNDk2Yi01NWYwLTRkOTQtYWFjYy03NGE3NWQ2YjgyOWYiLCJ1dGkiOiI0TGh0RXV3M2lrU1lpd3oyR0otNUFBIiwidmVyIjoiMS4wIiwid2lkcyI6WyIwOTk3YTFkMC0wZDFkLTRhY2ItYjQwOC1kNWNhNzMxMjFlOTAiXSwieG1zX3RjZHQiOjE2OTA0MzIwMTUsInhtc190ZGJyIjoiRVUifQ.lGjceJOw1ztZFIsHykPXNEEezP1j0BGxSc6Zbm6B-vc_LU5dDON197oKSkDAeqD4y6bAbY14uuMeKW-JDu37TZqMQs_YpMvA8bHyJ-Tl-UMayNbJJWFLaMdG82jNSpkXISpix1WJ5OuZfxyCDg75pSadSTLGR5r6qI6wOU76VEWmPei6lz2SQdy_stYKRXUIiZDEcijL7m9OvaVUkVY9XHryOA7ezBBisItD2_4HCKSBBjrhv9yuN-lDaSV5hv2WoNnyIi2tARzhGU0TCQ4gzzGqZn0knTB9uBca0-CiXidbMt8NlUA48zMRtnzlox1uekjGIkytAKqX_JjnWNEkWw\n"
     ]
    }
   ],
   "source": [
    "# Create an MSAL instance providing the client_id, authority and client_credential parameters\n",
    "client = msal.ConfidentialClientApplication(client_id, authority=authority, client_credential=client_secret)\n",
    "\n",
    "# First, try to lookup an access token in cache\n",
    "token_result = client.acquire_token_silent(scope, account=None)\n",
    "access_token=''\n",
    "\n",
    "# If the token is available in cache, save it to a variable\n",
    "if token_result:\n",
    "    access_token = 'Bearer ' + token_result['access_token']\n",
    "    print('Access token was loaded from cache')\n",
    "\n",
    "# If the token is not available in cache, acquire a new one from Azure AD and save it to a variable\n",
    "if not token_result:\n",
    "    token_result = client.acquire_token_for_client(scopes=scope)\n",
    "    access_token = 'Bearer ' + token_result['access_token']\n",
    "    print('New access token was acquired from Azure AD')\n",
    "\n",
    "print(access_token)"
   ]
  },
  {
   "cell_type": "code",
   "execution_count": 8,
   "metadata": {},
   "outputs": [
    {
     "name": "stdout",
     "output_type": "stream",
     "text": [
      "Bearer eyJ0eXAiOiJKV1QiLCJub25jZSI6InlfOXc4cEZhdmQ5U0V1dUl0eHhINjVYRnpucHc4cFFCR2YwZnJ2S0FlLVUiLCJhbGciOiJSUzI1NiIsIng1dCI6IlhSdmtvOFA3QTNVYVdTblU3Yk05blQwTWpoQSIsImtpZCI6IlhSdmtvOFA3QTNVYVdTblU3Yk05blQwTWpoQSJ9.eyJhdWQiOiJodHRwczovL2dyYXBoLm1pY3Jvc29mdC5jb20iLCJpc3MiOiJodHRwczovL3N0cy53aW5kb3dzLm5ldC8wOGIwNDk2Yi01NWYwLTRkOTQtYWFjYy03NGE3NWQ2YjgyOWYvIiwiaWF0IjoxNzExNTUxODExLCJuYmYiOjE3MTE1NTE4MTEsImV4cCI6MTcxMTU1NTcxMSwiYWlvIjoiRTJOZ1lIZzE3Y0hjTHAwTDd0V2xYK3YrTUwwWEJ3QT0iLCJhcHBfZGlzcGxheW5hbWUiOiJTaGFyZXBvaW50IiwiYXBwaWQiOiI4YjQxNTAxZS1mZDBmLTQ5YjYtODNlOS01Y2RlOTY0ZTY3ZjgiLCJhcHBpZGFjciI6IjEiLCJpZHAiOiJodHRwczovL3N0cy53aW5kb3dzLm5ldC8wOGIwNDk2Yi01NWYwLTRkOTQtYWFjYy03NGE3NWQ2YjgyOWYvIiwiaWR0eXAiOiJhcHAiLCJvaWQiOiI2NTEwOThlMC00ZTY2LTQ2Y2MtOGZhZS1hNmM5NDM3YWE1MTIiLCJyaCI6IjAuQWE4QWEwbXdDUEJWbEUycXpIU25YV3VDbndNQUFBQUFBQUFBd0FBQUFBQUFBQUN2QUFBLiIsInJvbGVzIjpbIk1haWwuUmVhZFdyaXRlIiwiRGV2aWNlLlJlYWRXcml0ZS5BbGwiLCJEZXZpY2VMb2NhbENyZWRlbnRpYWwuUmVhZEJhc2ljLkFsbCIsIlNpdGVzLlJlYWRXcml0ZS5BbGwiLCJTaXRlcy5NYW5hZ2UuQWxsIiwiVXNlci5SZWFkLkFsbCIsIkRldmljZU1hbmFnZW1lbnRTZXJ2aWNlQ29uZmlnLlJlYWRXcml0ZS5BbGwiLCJEZXZpY2VNYW5hZ2VtZW50TWFuYWdlZERldmljZXMuUmVhZFdyaXRlLkFsbCIsIk1haWwuU2VuZCIsIkRldmljZU1hbmFnZW1lbnRDb25maWd1cmF0aW9uLlJlYWRXcml0ZS5BbGwiLCJTaXRlcy5GdWxsQ29udHJvbC5BbGwiLCJEZXZpY2VNYW5hZ2VtZW50QXBwcy5SZWFkV3JpdGUuQWxsIiwiRGV2aWNlTWFuYWdlbWVudFJCQUMuUmVhZFdyaXRlLkFsbCJdLCJzdWIiOiI2NTEwOThlMC00ZTY2LTQ2Y2MtOGZhZS1hNmM5NDM3YWE1MTIiLCJ0ZW5hbnRfcmVnaW9uX3Njb3BlIjoiRVUiLCJ0aWQiOiIwOGIwNDk2Yi01NWYwLTRkOTQtYWFjYy03NGE3NWQ2YjgyOWYiLCJ1dGkiOiI0TGh0RXV3M2lrU1lpd3oyR0otNUFBIiwidmVyIjoiMS4wIiwid2lkcyI6WyIwOTk3YTFkMC0wZDFkLTRhY2ItYjQwOC1kNWNhNzMxMjFlOTAiXSwieG1zX3RjZHQiOjE2OTA0MzIwMTUsInhtc190ZGJyIjoiRVUifQ.lGjceJOw1ztZFIsHykPXNEEezP1j0BGxSc6Zbm6B-vc_LU5dDON197oKSkDAeqD4y6bAbY14uuMeKW-JDu37TZqMQs_YpMvA8bHyJ-Tl-UMayNbJJWFLaMdG82jNSpkXISpix1WJ5OuZfxyCDg75pSadSTLGR5r6qI6wOU76VEWmPei6lz2SQdy_stYKRXUIiZDEcijL7m9OvaVUkVY9XHryOA7ezBBisItD2_4HCKSBBjrhv9yuN-lDaSV5hv2WoNnyIi2tARzhGU0TCQ4gzzGqZn0knTB9uBca0-CiXidbMt8NlUA48zMRtnzlox1uekjGIkytAKqX_JjnWNEkWw\n"
     ]
    }
   ],
   "source": [
    "print(access_token)"
   ]
  },
  {
   "cell_type": "code",
   "execution_count": 13,
   "metadata": {},
   "outputs": [
    {
     "name": "stdout",
     "output_type": "stream",
     "text": [
      "[{'id': '072963c9-42bc-46ca-89cf-203b8ffb3e6d', 'userId': 'c19530ea-ca1e-484d-a90c-a443f28477f6', 'deviceName': 'CPC-Jcapo-XUZEE', 'managedDeviceOwnerType': 'company', 'enrolledDateTime': '2023-08-25T16:13:01Z', 'lastSyncDateTime': '2023-09-05T02:31:27Z', 'operatingSystem': 'Windows', 'complianceState': 'noncompliant', 'jailBroken': 'Unknown', 'managementAgent': 'mdm', 'osVersion': '10.0.22621.2134', 'easActivated': False, 'easDeviceId': '', 'easActivationDateTime': '0001-01-01T00:00:00Z', 'azureADRegistered': True, 'deviceEnrollmentType': 'windowsAzureADJoin', 'activationLockBypassCode': None, 'emailAddress': 'Jcapobianco@q7vf.onmicrosoft.com', 'azureADDeviceId': '072963c9-42bc-46ca-89cf-203b8ffb3e6d', 'deviceRegistrationState': 'registered', 'deviceCategoryDisplayName': 'Unknown', 'isSupervised': False, 'exchangeLastSuccessfulSyncDateTime': '0001-01-01T00:00:00Z', 'exchangeAccessState': 'none', 'exchangeAccessStateReason': 'none', 'remoteAssistanceSessionUrl': None, 'remoteAssistanceSessionErrorDetails': None, 'isEncrypted': False, 'userPrincipalName': 'Jcapobianco@q7vf.onmicrosoft.com', 'model': 'Power Automate Hosted Machine 4vCPU/16GB/256GB', 'manufacturer': 'Microsoft Corporation', 'imei': '', 'complianceGracePeriodExpirationDateTime': '2024-02-03T21:50:33Z', 'serialNumber': '0000-0001-9740-0243-6744-9572-29', 'phoneNumber': '', 'androidSecurityPatchLevel': '', 'userDisplayName': 'Junior Capobianco', 'configurationManagerClientEnabledFeatures': None, 'wiFiMacAddress': '', 'deviceHealthAttestationState': None, 'subscriberCarrier': '', 'meid': '', 'totalStorageSpaceInBytes': 274283364352, 'freeStorageSpaceInBytes': 246368174080, 'managedDeviceName': '8c927d45-dd1b-424f-a0bb-37bba1c5bc39_Windows_8/25/2023_4:13 PM', 'partnerReportedThreatState': 'unknown', 'requireUserEnrollmentApproval': None, 'managementCertificateExpirationDate': '2024-08-21T22:46:24Z', 'iccid': None, 'udid': None, 'notes': None, 'ethernetMacAddress': None, 'physicalMemoryInBytes': 0, 'deviceActionResults': []}]\n"
     ]
    }
   ],
   "source": [
    "graph_results=[]\n",
    "url= 'https://graph.microsoft.com/v1.0/deviceManagement/managedDevices'\n",
    "headers = {\n",
    "    'Authorization': access_token\n",
    "}\n",
    "while url:\n",
    "    try:\n",
    "        graph_result = requests.get(url=url, headers=headers).json()\n",
    "        graph_results.extend(graph_result['value'])\n",
    "        url = graph_result['@odata.nextLink']        \n",
    "    except:\n",
    "        break\n",
    "print(graph_results)"
   ]
  }
 ],
 "metadata": {
  "kernelspec": {
   "display_name": "Python 3",
   "language": "python",
   "name": "python3"
  },
  "language_info": {
   "codemirror_mode": {
    "name": "ipython",
    "version": 3
   },
   "file_extension": ".py",
   "mimetype": "text/x-python",
   "name": "python",
   "nbconvert_exporter": "python",
   "pygments_lexer": "ipython3",
   "version": "3.12.1"
  }
 },
 "nbformat": 4,
 "nbformat_minor": 2
}
